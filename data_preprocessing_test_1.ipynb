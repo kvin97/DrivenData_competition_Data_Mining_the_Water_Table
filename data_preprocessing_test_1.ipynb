{
 "cells": [
  {
   "cell_type": "code",
   "execution_count": 1,
   "metadata": {},
   "outputs": [],
   "source": [
    "#import the libraries needed\n",
    "import pandas as pd\n",
    "import numpy as np\n",
    "import seaborn as sns\n",
    "from sklearn import preprocessing\n",
    "from sklearn.model_selection import train_test_split\n",
    "from sklearn import tree\n",
    "from sklearn.svm import SVC\n",
    "from sklearn.ensemble import RandomForestClassifier\n",
    "from sklearn.model_selection import KFold\n",
    "from sklearn.model_selection import StratifiedKFold\n",
    "import matplotlib.pyplot as plt\n",
    "from scipy import stats\n",
    "import datetime"
   ]
  },
  {
   "cell_type": "code",
   "execution_count": 2,
   "metadata": {},
   "outputs": [],
   "source": [
    "#Load the train values from the train_values.csv file\n",
    "df = pd.read_csv(\"train_values.csv\")\n",
    "\n",
    "#Load the label values from the label.csv file for each building id\n",
    "label = pd.read_csv(\"train_labels.csv\")"
   ]
  },
  {
   "cell_type": "code",
   "execution_count": 3,
   "metadata": {},
   "outputs": [
    {
     "data": {
      "text/html": [
       "<div>\n",
       "<style scoped>\n",
       "    .dataframe tbody tr th:only-of-type {\n",
       "        vertical-align: middle;\n",
       "    }\n",
       "\n",
       "    .dataframe tbody tr th {\n",
       "        vertical-align: top;\n",
       "    }\n",
       "\n",
       "    .dataframe thead th {\n",
       "        text-align: right;\n",
       "    }\n",
       "</style>\n",
       "<table border=\"1\" class=\"dataframe\">\n",
       "  <thead>\n",
       "    <tr style=\"text-align: right;\">\n",
       "      <th></th>\n",
       "      <th>id</th>\n",
       "      <th>amount_tsh</th>\n",
       "      <th>date_recorded</th>\n",
       "      <th>funder</th>\n",
       "      <th>gps_height</th>\n",
       "      <th>installer</th>\n",
       "      <th>longitude</th>\n",
       "      <th>latitude</th>\n",
       "      <th>wpt_name</th>\n",
       "      <th>num_private</th>\n",
       "      <th>...</th>\n",
       "      <th>payment_type</th>\n",
       "      <th>water_quality</th>\n",
       "      <th>quality_group</th>\n",
       "      <th>quantity</th>\n",
       "      <th>quantity_group</th>\n",
       "      <th>source</th>\n",
       "      <th>source_type</th>\n",
       "      <th>source_class</th>\n",
       "      <th>waterpoint_type</th>\n",
       "      <th>waterpoint_type_group</th>\n",
       "    </tr>\n",
       "  </thead>\n",
       "  <tbody>\n",
       "    <tr>\n",
       "      <th>0</th>\n",
       "      <td>69572</td>\n",
       "      <td>6000.0</td>\n",
       "      <td>2011-03-14</td>\n",
       "      <td>Roman</td>\n",
       "      <td>1390</td>\n",
       "      <td>Roman</td>\n",
       "      <td>34.938093</td>\n",
       "      <td>-9.856322</td>\n",
       "      <td>none</td>\n",
       "      <td>0</td>\n",
       "      <td>...</td>\n",
       "      <td>annually</td>\n",
       "      <td>soft</td>\n",
       "      <td>good</td>\n",
       "      <td>enough</td>\n",
       "      <td>enough</td>\n",
       "      <td>spring</td>\n",
       "      <td>spring</td>\n",
       "      <td>groundwater</td>\n",
       "      <td>communal standpipe</td>\n",
       "      <td>communal standpipe</td>\n",
       "    </tr>\n",
       "    <tr>\n",
       "      <th>1</th>\n",
       "      <td>8776</td>\n",
       "      <td>0.0</td>\n",
       "      <td>2013-03-06</td>\n",
       "      <td>Grumeti</td>\n",
       "      <td>1399</td>\n",
       "      <td>GRUMETI</td>\n",
       "      <td>34.698766</td>\n",
       "      <td>-2.147466</td>\n",
       "      <td>Zahanati</td>\n",
       "      <td>0</td>\n",
       "      <td>...</td>\n",
       "      <td>never pay</td>\n",
       "      <td>soft</td>\n",
       "      <td>good</td>\n",
       "      <td>insufficient</td>\n",
       "      <td>insufficient</td>\n",
       "      <td>rainwater harvesting</td>\n",
       "      <td>rainwater harvesting</td>\n",
       "      <td>surface</td>\n",
       "      <td>communal standpipe</td>\n",
       "      <td>communal standpipe</td>\n",
       "    </tr>\n",
       "  </tbody>\n",
       "</table>\n",
       "<p>2 rows × 40 columns</p>\n",
       "</div>"
      ],
      "text/plain": [
       "      id  amount_tsh date_recorded   funder  gps_height installer  longitude  \\\n",
       "0  69572      6000.0    2011-03-14    Roman        1390     Roman  34.938093   \n",
       "1   8776         0.0    2013-03-06  Grumeti        1399   GRUMETI  34.698766   \n",
       "\n",
       "   latitude  wpt_name  num_private  ... payment_type water_quality  \\\n",
       "0 -9.856322      none            0  ...     annually          soft   \n",
       "1 -2.147466  Zahanati            0  ...    never pay          soft   \n",
       "\n",
       "  quality_group      quantity  quantity_group                source  \\\n",
       "0          good        enough          enough                spring   \n",
       "1          good  insufficient    insufficient  rainwater harvesting   \n",
       "\n",
       "            source_type  source_class     waterpoint_type  \\\n",
       "0                spring   groundwater  communal standpipe   \n",
       "1  rainwater harvesting       surface  communal standpipe   \n",
       "\n",
       "  waterpoint_type_group  \n",
       "0    communal standpipe  \n",
       "1    communal standpipe  \n",
       "\n",
       "[2 rows x 40 columns]"
      ]
     },
     "execution_count": 3,
     "metadata": {},
     "output_type": "execute_result"
    }
   ],
   "source": [
    "#get first 2 of train_values\n",
    "df.head(2)"
   ]
  },
  {
   "cell_type": "code",
   "execution_count": 4,
   "metadata": {},
   "outputs": [
    {
     "data": {
      "text/html": [
       "<div>\n",
       "<style scoped>\n",
       "    .dataframe tbody tr th:only-of-type {\n",
       "        vertical-align: middle;\n",
       "    }\n",
       "\n",
       "    .dataframe tbody tr th {\n",
       "        vertical-align: top;\n",
       "    }\n",
       "\n",
       "    .dataframe thead th {\n",
       "        text-align: right;\n",
       "    }\n",
       "</style>\n",
       "<table border=\"1\" class=\"dataframe\">\n",
       "  <thead>\n",
       "    <tr style=\"text-align: right;\">\n",
       "      <th></th>\n",
       "      <th>id</th>\n",
       "      <th>status_group</th>\n",
       "    </tr>\n",
       "  </thead>\n",
       "  <tbody>\n",
       "    <tr>\n",
       "      <th>0</th>\n",
       "      <td>69572</td>\n",
       "      <td>functional</td>\n",
       "    </tr>\n",
       "    <tr>\n",
       "      <th>1</th>\n",
       "      <td>8776</td>\n",
       "      <td>functional</td>\n",
       "    </tr>\n",
       "    <tr>\n",
       "      <th>2</th>\n",
       "      <td>34310</td>\n",
       "      <td>functional</td>\n",
       "    </tr>\n",
       "    <tr>\n",
       "      <th>3</th>\n",
       "      <td>67743</td>\n",
       "      <td>non functional</td>\n",
       "    </tr>\n",
       "    <tr>\n",
       "      <th>4</th>\n",
       "      <td>19728</td>\n",
       "      <td>functional</td>\n",
       "    </tr>\n",
       "    <tr>\n",
       "      <th>5</th>\n",
       "      <td>9944</td>\n",
       "      <td>functional</td>\n",
       "    </tr>\n",
       "    <tr>\n",
       "      <th>6</th>\n",
       "      <td>19816</td>\n",
       "      <td>non functional</td>\n",
       "    </tr>\n",
       "    <tr>\n",
       "      <th>7</th>\n",
       "      <td>54551</td>\n",
       "      <td>non functional</td>\n",
       "    </tr>\n",
       "    <tr>\n",
       "      <th>8</th>\n",
       "      <td>53934</td>\n",
       "      <td>non functional</td>\n",
       "    </tr>\n",
       "    <tr>\n",
       "      <th>9</th>\n",
       "      <td>46144</td>\n",
       "      <td>functional</td>\n",
       "    </tr>\n",
       "  </tbody>\n",
       "</table>\n",
       "</div>"
      ],
      "text/plain": [
       "      id    status_group\n",
       "0  69572      functional\n",
       "1   8776      functional\n",
       "2  34310      functional\n",
       "3  67743  non functional\n",
       "4  19728      functional\n",
       "5   9944      functional\n",
       "6  19816  non functional\n",
       "7  54551  non functional\n",
       "8  53934  non functional\n",
       "9  46144      functional"
      ]
     },
     "execution_count": 4,
     "metadata": {},
     "output_type": "execute_result"
    }
   ],
   "source": [
    "#get first 2 train_labels\n",
    "label.head(10)"
   ]
  },
  {
   "cell_type": "code",
   "execution_count": 5,
   "metadata": {},
   "outputs": [
    {
     "data": {
      "text/html": [
       "<div>\n",
       "<style scoped>\n",
       "    .dataframe tbody tr th:only-of-type {\n",
       "        vertical-align: middle;\n",
       "    }\n",
       "\n",
       "    .dataframe tbody tr th {\n",
       "        vertical-align: top;\n",
       "    }\n",
       "\n",
       "    .dataframe thead th {\n",
       "        text-align: right;\n",
       "    }\n",
       "</style>\n",
       "<table border=\"1\" class=\"dataframe\">\n",
       "  <thead>\n",
       "    <tr style=\"text-align: right;\">\n",
       "      <th></th>\n",
       "      <th>id</th>\n",
       "      <th>status_group</th>\n",
       "    </tr>\n",
       "  </thead>\n",
       "  <tbody>\n",
       "    <tr>\n",
       "      <th>0</th>\n",
       "      <td>69572</td>\n",
       "      <td>functional</td>\n",
       "    </tr>\n",
       "    <tr>\n",
       "      <th>1</th>\n",
       "      <td>8776</td>\n",
       "      <td>functional</td>\n",
       "    </tr>\n",
       "    <tr>\n",
       "      <th>2</th>\n",
       "      <td>34310</td>\n",
       "      <td>functional</td>\n",
       "    </tr>\n",
       "    <tr>\n",
       "      <th>3</th>\n",
       "      <td>67743</td>\n",
       "      <td>non functional</td>\n",
       "    </tr>\n",
       "    <tr>\n",
       "      <th>4</th>\n",
       "      <td>19728</td>\n",
       "      <td>functional</td>\n",
       "    </tr>\n",
       "    <tr>\n",
       "      <th>5</th>\n",
       "      <td>9944</td>\n",
       "      <td>functional</td>\n",
       "    </tr>\n",
       "    <tr>\n",
       "      <th>6</th>\n",
       "      <td>19816</td>\n",
       "      <td>non functional</td>\n",
       "    </tr>\n",
       "    <tr>\n",
       "      <th>7</th>\n",
       "      <td>54551</td>\n",
       "      <td>non functional</td>\n",
       "    </tr>\n",
       "    <tr>\n",
       "      <th>8</th>\n",
       "      <td>53934</td>\n",
       "      <td>non functional</td>\n",
       "    </tr>\n",
       "    <tr>\n",
       "      <th>9</th>\n",
       "      <td>46144</td>\n",
       "      <td>functional</td>\n",
       "    </tr>\n",
       "  </tbody>\n",
       "</table>\n",
       "</div>"
      ],
      "text/plain": [
       "      id    status_group\n",
       "0  69572      functional\n",
       "1   8776      functional\n",
       "2  34310      functional\n",
       "3  67743  non functional\n",
       "4  19728      functional\n",
       "5   9944      functional\n",
       "6  19816  non functional\n",
       "7  54551  non functional\n",
       "8  53934  non functional\n",
       "9  46144      functional"
      ]
     },
     "execution_count": 5,
     "metadata": {},
     "output_type": "execute_result"
    }
   ],
   "source": [
    "label.head(10)"
   ]
  },
  {
   "cell_type": "code",
   "execution_count": 6,
   "metadata": {},
   "outputs": [],
   "source": [
    "label_encoder = preprocessing.LabelEncoder()\n",
    "label['status_group'] = label_encoder.fit_transform(label['status_group'])\n",
    "# functional 0, non functional - 2 , functional need repair - 1"
   ]
  },
  {
   "cell_type": "code",
   "execution_count": 7,
   "metadata": {},
   "outputs": [
    {
     "data": {
      "text/html": [
       "<div>\n",
       "<style scoped>\n",
       "    .dataframe tbody tr th:only-of-type {\n",
       "        vertical-align: middle;\n",
       "    }\n",
       "\n",
       "    .dataframe tbody tr th {\n",
       "        vertical-align: top;\n",
       "    }\n",
       "\n",
       "    .dataframe thead th {\n",
       "        text-align: right;\n",
       "    }\n",
       "</style>\n",
       "<table border=\"1\" class=\"dataframe\">\n",
       "  <thead>\n",
       "    <tr style=\"text-align: right;\">\n",
       "      <th></th>\n",
       "      <th>id</th>\n",
       "      <th>status_group</th>\n",
       "    </tr>\n",
       "  </thead>\n",
       "  <tbody>\n",
       "    <tr>\n",
       "      <th>0</th>\n",
       "      <td>69572</td>\n",
       "      <td>0</td>\n",
       "    </tr>\n",
       "    <tr>\n",
       "      <th>1</th>\n",
       "      <td>8776</td>\n",
       "      <td>0</td>\n",
       "    </tr>\n",
       "    <tr>\n",
       "      <th>2</th>\n",
       "      <td>34310</td>\n",
       "      <td>0</td>\n",
       "    </tr>\n",
       "    <tr>\n",
       "      <th>3</th>\n",
       "      <td>67743</td>\n",
       "      <td>2</td>\n",
       "    </tr>\n",
       "    <tr>\n",
       "      <th>4</th>\n",
       "      <td>19728</td>\n",
       "      <td>0</td>\n",
       "    </tr>\n",
       "    <tr>\n",
       "      <th>5</th>\n",
       "      <td>9944</td>\n",
       "      <td>0</td>\n",
       "    </tr>\n",
       "    <tr>\n",
       "      <th>6</th>\n",
       "      <td>19816</td>\n",
       "      <td>2</td>\n",
       "    </tr>\n",
       "    <tr>\n",
       "      <th>7</th>\n",
       "      <td>54551</td>\n",
       "      <td>2</td>\n",
       "    </tr>\n",
       "  </tbody>\n",
       "</table>\n",
       "</div>"
      ],
      "text/plain": [
       "      id  status_group\n",
       "0  69572             0\n",
       "1   8776             0\n",
       "2  34310             0\n",
       "3  67743             2\n",
       "4  19728             0\n",
       "5   9944             0\n",
       "6  19816             2\n",
       "7  54551             2"
      ]
     },
     "execution_count": 7,
     "metadata": {},
     "output_type": "execute_result"
    }
   ],
   "source": [
    "label.head(8)"
   ]
  },
  {
   "cell_type": "code",
   "execution_count": null,
   "metadata": {},
   "outputs": [],
   "source": []
  },
  {
   "cell_type": "code",
   "execution_count": 8,
   "metadata": {},
   "outputs": [
    {
     "data": {
      "text/plain": [
       "id                           0\n",
       "amount_tsh                   0\n",
       "date_recorded                0\n",
       "funder                    3635\n",
       "gps_height                   0\n",
       "installer                 3655\n",
       "longitude                    0\n",
       "latitude                     0\n",
       "wpt_name                     0\n",
       "num_private                  0\n",
       "basin                        0\n",
       "subvillage                 371\n",
       "region                       0\n",
       "region_code                  0\n",
       "district_code                0\n",
       "lga                          0\n",
       "ward                         0\n",
       "population                   0\n",
       "public_meeting            3334\n",
       "recorded_by                  0\n",
       "scheme_management         3877\n",
       "scheme_name              28166\n",
       "permit                    3056\n",
       "construction_year            0\n",
       "extraction_type              0\n",
       "extraction_type_group        0\n",
       "extraction_type_class        0\n",
       "management                   0\n",
       "management_group             0\n",
       "payment                      0\n",
       "payment_type                 0\n",
       "water_quality                0\n",
       "quality_group                0\n",
       "quantity                     0\n",
       "quantity_group               0\n",
       "source                       0\n",
       "source_type                  0\n",
       "source_class                 0\n",
       "waterpoint_type              0\n",
       "waterpoint_type_group        0\n",
       "dtype: int64"
      ]
     },
     "execution_count": 8,
     "metadata": {},
     "output_type": "execute_result"
    }
   ],
   "source": [
    "#find whether dataset contains any missing values in any of the columns\n",
    "df.isnull().sum()"
   ]
  },
  {
   "cell_type": "code",
   "execution_count": 9,
   "metadata": {},
   "outputs": [
    {
     "name": "stdout",
     "output_type": "stream",
     "text": [
      "funder 3635 <class 'str'>\n",
      "installer 3655 <class 'str'>\n",
      "subvillage 371 <class 'str'>\n",
      "public_meeting 3334 <class 'bool'>\n",
      "scheme_management 3877 <class 'str'>\n",
      "scheme_name 28166 <class 'str'>\n",
      "permit 3056 <class 'bool'>\n"
     ]
    }
   ],
   "source": [
    "# Find columns with Null values\n",
    "nullcols = []\n",
    "for col in df.columns:\n",
    "    nbnull = (df[col].isnull()*1).sum()\n",
    "    if ( nbnull > 0 ):\n",
    "        tp = type(df[df[col].notnull()][col].iat[0]) # type of first non null value\n",
    "        nullcols.append([col, tp])\n",
    "        print(col, nbnull, tp)"
   ]
  },
  {
   "cell_type": "code",
   "execution_count": 10,
   "metadata": {},
   "outputs": [],
   "source": [
    "for col, tp in nullcols:\n",
    "    if (tp == str):\n",
    "        df.loc[df[col].isnull(), col] = 'MISSING'\n",
    "        \n",
    "for col, tp in nullcols:\n",
    "    if (tp == bool):\n",
    "        df.loc[df[col]==True, col] = 'TRUE'\n",
    "        df.loc[df[col]==False, col] = 'FALSE'\n",
    "        df.loc[df[col].isnull(), col] = 'MISSING'"
   ]
  },
  {
   "cell_type": "code",
   "execution_count": null,
   "metadata": {},
   "outputs": [],
   "source": []
  },
  {
   "cell_type": "code",
   "execution_count": 11,
   "metadata": {},
   "outputs": [],
   "source": [
    "#Drop columns not necessary for the model\n",
    "drop_list = [\n",
    "             'recorded_by',\n",
    "             'waterpoint_type_group',\n",
    "             'extraction_type_group',\n",
    "             'recorded_by',\n",
    "             'quality_group',\n",
    "             'quantity_group',\n",
    "             'id',\n",
    "             'source',\n",
    "             'source_class'\n",
    "            ]\n",
    "df = df.drop(drop_list,axis=1)"
   ]
  },
  {
   "cell_type": "code",
   "execution_count": null,
   "metadata": {},
   "outputs": [],
   "source": []
  },
  {
   "cell_type": "code",
   "execution_count": null,
   "metadata": {},
   "outputs": [],
   "source": []
  },
  {
   "cell_type": "code",
   "execution_count": 12,
   "metadata": {},
   "outputs": [
    {
     "data": {
      "text/plain": [
       "amount_tsh               0\n",
       "date_recorded            0\n",
       "funder                   0\n",
       "gps_height               0\n",
       "installer                0\n",
       "longitude                0\n",
       "latitude                 0\n",
       "wpt_name                 0\n",
       "num_private              0\n",
       "basin                    0\n",
       "subvillage               0\n",
       "region                   0\n",
       "region_code              0\n",
       "district_code            0\n",
       "lga                      0\n",
       "ward                     0\n",
       "population               0\n",
       "public_meeting           0\n",
       "scheme_management        0\n",
       "scheme_name              0\n",
       "permit                   0\n",
       "construction_year        0\n",
       "extraction_type          0\n",
       "extraction_type_class    0\n",
       "management               0\n",
       "management_group         0\n",
       "payment                  0\n",
       "payment_type             0\n",
       "water_quality            0\n",
       "quantity                 0\n",
       "source_type              0\n",
       "waterpoint_type          0\n",
       "dtype: int64"
      ]
     },
     "execution_count": 12,
     "metadata": {},
     "output_type": "execute_result"
    }
   ],
   "source": [
    "df.isnull().sum()"
   ]
  },
  {
   "cell_type": "code",
   "execution_count": 13,
   "metadata": {},
   "outputs": [],
   "source": [
    "dates=[]\n",
    "# before filling the null keep track of them\n",
    "df['construction_year_missing'] = (df['construction_year']==0)*1\n",
    "dates.append( 'construction_year_missing' ) # list of dates related fields\n",
    "\n",
    "# to fill missing dates, can use : mean, median or oldest\n",
    "mean_year = df[df['construction_year']>0]['construction_year'].mean()\n",
    "\n",
    "df.loc[df['construction_year']==0, 'construction_year'] = int(mean_year)"
   ]
  },
  {
   "cell_type": "code",
   "execution_count": 14,
   "metadata": {},
   "outputs": [],
   "source": [
    "df['date_recorded'] = pd.to_datetime(df['date_recorded'], errors='coerce')\n",
    "now = pd.to_datetime('now')\n",
    "df['time_for_record'] = ((now - df['date_recorded']).dt.total_seconds() / (60*60*24*365.25)).round(0)"
   ]
  },
  {
   "cell_type": "code",
   "execution_count": 15,
   "metadata": {},
   "outputs": [
    {
     "data": {
      "text/html": [
       "<div>\n",
       "<style scoped>\n",
       "    .dataframe tbody tr th:only-of-type {\n",
       "        vertical-align: middle;\n",
       "    }\n",
       "\n",
       "    .dataframe tbody tr th {\n",
       "        vertical-align: top;\n",
       "    }\n",
       "\n",
       "    .dataframe thead th {\n",
       "        text-align: right;\n",
       "    }\n",
       "</style>\n",
       "<table border=\"1\" class=\"dataframe\">\n",
       "  <thead>\n",
       "    <tr style=\"text-align: right;\">\n",
       "      <th></th>\n",
       "      <th>latitude</th>\n",
       "      <th>longitude</th>\n",
       "      <th>gps_height</th>\n",
       "    </tr>\n",
       "    <tr>\n",
       "      <th>basin</th>\n",
       "      <th></th>\n",
       "      <th></th>\n",
       "      <th></th>\n",
       "    </tr>\n",
       "  </thead>\n",
       "  <tbody>\n",
       "    <tr>\n",
       "      <th>Internal</th>\n",
       "      <td>-4.137060</td>\n",
       "      <td>35.471586</td>\n",
       "      <td>1474.550470</td>\n",
       "    </tr>\n",
       "    <tr>\n",
       "      <th>Lake Nyasa</th>\n",
       "      <td>-10.021460</td>\n",
       "      <td>34.772641</td>\n",
       "      <td>1524.654237</td>\n",
       "    </tr>\n",
       "    <tr>\n",
       "      <th>Lake Rukwa</th>\n",
       "      <td>-7.489675</td>\n",
       "      <td>31.500196</td>\n",
       "      <td>1415.137352</td>\n",
       "    </tr>\n",
       "    <tr>\n",
       "      <th>Lake Tanganyika</th>\n",
       "      <td>-4.938659</td>\n",
       "      <td>30.398291</td>\n",
       "      <td>1270.063242</td>\n",
       "    </tr>\n",
       "    <tr>\n",
       "      <th>Lake Victoria</th>\n",
       "      <td>-1.868478</td>\n",
       "      <td>34.004127</td>\n",
       "      <td>1329.265008</td>\n",
       "    </tr>\n",
       "    <tr>\n",
       "      <th>Pangani</th>\n",
       "      <td>-3.849383</td>\n",
       "      <td>37.546848</td>\n",
       "      <td>1102.257742</td>\n",
       "    </tr>\n",
       "    <tr>\n",
       "      <th>Rufiji</th>\n",
       "      <td>-8.483380</td>\n",
       "      <td>35.852000</td>\n",
       "      <td>1087.780631</td>\n",
       "    </tr>\n",
       "    <tr>\n",
       "      <th>Ruvuma / Southern Coast</th>\n",
       "      <td>-10.547087</td>\n",
       "      <td>38.156886</td>\n",
       "      <td>455.058376</td>\n",
       "    </tr>\n",
       "    <tr>\n",
       "      <th>Wami / Ruvu</th>\n",
       "      <td>-6.712766</td>\n",
       "      <td>38.170352</td>\n",
       "      <td>308.914208</td>\n",
       "    </tr>\n",
       "  </tbody>\n",
       "</table>\n",
       "</div>"
      ],
      "text/plain": [
       "                          latitude  longitude   gps_height\n",
       "basin                                                     \n",
       "Internal                 -4.137060  35.471586  1474.550470\n",
       "Lake Nyasa              -10.021460  34.772641  1524.654237\n",
       "Lake Rukwa               -7.489675  31.500196  1415.137352\n",
       "Lake Tanganyika          -4.938659  30.398291  1270.063242\n",
       "Lake Victoria            -1.868478  34.004127  1329.265008\n",
       "Pangani                  -3.849383  37.546848  1102.257742\n",
       "Rufiji                   -8.483380  35.852000  1087.780631\n",
       "Ruvuma / Southern Coast -10.547087  38.156886   455.058376\n",
       "Wami / Ruvu              -6.712766  38.170352   308.914208"
      ]
     },
     "execution_count": 15,
     "metadata": {},
     "output_type": "execute_result"
    }
   ],
   "source": [
    "# bound of min/max latitude/longitude/height for Tanzania\n",
    "bound_df = df[(df['latitude']<-0.5)&(df['longitude']>25)&(df['gps_height']>0)]\n",
    "\n",
    "# mean of geographical data in each bucket\n",
    "mean_geo_df = bound_df.groupby(['basin',])['latitude','longitude','gps_height'].mean()\n",
    "\n",
    "assert(mean_geo_df.shape[0] == len(df['basin'].unique()))\n",
    "\n",
    "mean_geo_df"
   ]
  },
  {
   "cell_type": "code",
   "execution_count": 16,
   "metadata": {},
   "outputs": [],
   "source": [
    "geos=[]\n",
    "# Before overwriting keep track of suspect rows with new binary columns\n",
    "df['gps_height_bad'] = (df['gps_height']<=0)*1\n",
    "geos.append('gps_height_bad')\n",
    "df['longitude_bad'] = (df['longitude']<25)*1\n",
    "geos.append('longitude_bad')\n",
    "df['latitude_bad'] = (df['latitude']>-0.5)*1\n",
    "geos.append('latitude_bad')\n",
    "\n",
    "# Exemple of query via index=basin : mean_geo_df.at['Lake Victoria','latitude']\n",
    "df.loc[df['gps_height']<=0, 'gps_height'] = df['basin'].apply(lambda x : mean_geo_df.at[x,'gps_height'])\n",
    "df.loc[df['longitude']<25, 'longitude'] = df['basin'].apply(lambda x : mean_geo_df.at[x,'longitude'])\n",
    "df.loc[df['latitude']>-0.5, 'latitude'] = df['basin'].apply(lambda x : mean_geo_df.at[x,'latitude'])"
   ]
  },
  {
   "cell_type": "code",
   "execution_count": 17,
   "metadata": {},
   "outputs": [],
   "source": [
    "columns_to_delete = [\"date_recorded\"]\n",
    "df.drop(labels=columns_to_delete, axis=\"columns\", inplace=True)"
   ]
  },
  {
   "cell_type": "code",
   "execution_count": 18,
   "metadata": {},
   "outputs": [],
   "source": [
    "#df['target'] = label['status_group']"
   ]
  },
  {
   "cell_type": "code",
   "execution_count": 19,
   "metadata": {},
   "outputs": [],
   "source": [
    "#plt.figure(figsize=(12,12))\n",
    "#sns.scatterplot(x='longitude', y='latitude',data=df,hue='target',style='target')\n",
    "#plt.ylim(-12, 0)\n",
    "#plt.xlim(27, 42)\n",
    "#plt.show()"
   ]
  },
  {
   "cell_type": "code",
   "execution_count": 20,
   "metadata": {},
   "outputs": [],
   "source": [
    "#sns.set(style=\"whitegrid\")\n",
    "#sns.barplot(x=\"target\", y=\"population\", data=df)"
   ]
  },
  {
   "cell_type": "code",
   "execution_count": null,
   "metadata": {},
   "outputs": [],
   "source": []
  },
  {
   "cell_type": "code",
   "execution_count": 21,
   "metadata": {},
   "outputs": [],
   "source": [
    "value_replacement = {'commercial':'other', 'parastatal':'other', 'unknown':'other'}\n",
    "df['management_group'].replace(value_replacement, inplace=True)"
   ]
  },
  {
   "cell_type": "code",
   "execution_count": 22,
   "metadata": {},
   "outputs": [],
   "source": [
    "value_replacement = {'dam':'other', 'rainwater harvesting':'other'}\n",
    "df['source_type'].replace(value_replacement, inplace=True)"
   ]
  },
  {
   "cell_type": "code",
   "execution_count": 23,
   "metadata": {},
   "outputs": [],
   "source": [
    "value_replacement = {'salty':'other',\n",
    "                     'milky':'other', \n",
    "                     'unknown':'other', \n",
    "                     'fluoride':'other', \n",
    "                     'coloured':'other',\n",
    "                     'salty abandoned':'other', \n",
    "                     'fluoride abandoned':'other'\n",
    "                    }\n",
    "df['water_quality'].replace(value_replacement,inplace=True)"
   ]
  },
  {
   "cell_type": "code",
   "execution_count": 24,
   "metadata": {},
   "outputs": [
    {
     "data": {
      "text/plain": [
       "amount_tsh                   float64\n",
       "funder                        object\n",
       "gps_height                   float64\n",
       "installer                     object\n",
       "longitude                    float64\n",
       "latitude                     float64\n",
       "wpt_name                      object\n",
       "num_private                    int64\n",
       "basin                         object\n",
       "subvillage                    object\n",
       "region                        object\n",
       "region_code                    int64\n",
       "district_code                  int64\n",
       "lga                           object\n",
       "ward                          object\n",
       "population                     int64\n",
       "public_meeting                object\n",
       "scheme_management             object\n",
       "scheme_name                   object\n",
       "permit                        object\n",
       "construction_year              int64\n",
       "extraction_type               object\n",
       "extraction_type_class         object\n",
       "management                    object\n",
       "management_group              object\n",
       "payment                       object\n",
       "payment_type                  object\n",
       "water_quality                 object\n",
       "quantity                      object\n",
       "source_type                   object\n",
       "waterpoint_type               object\n",
       "construction_year_missing      int64\n",
       "time_for_record              float64\n",
       "gps_height_bad                 int64\n",
       "longitude_bad                  int64\n",
       "latitude_bad                   int64\n",
       "dtype: object"
      ]
     },
     "execution_count": 24,
     "metadata": {},
     "output_type": "execute_result"
    }
   ],
   "source": [
    "df.dtypes"
   ]
  },
  {
   "cell_type": "code",
   "execution_count": 25,
   "metadata": {},
   "outputs": [],
   "source": [
    "#Object data encode with numerical data\n",
    "df_objects = df.select_dtypes(include=['object'])\n",
    "label_encoder = preprocessing.LabelEncoder()\n",
    "for col in df_objects.columns:\n",
    "    df[col] = label_encoder.fit_transform(df[col])"
   ]
  },
  {
   "cell_type": "code",
   "execution_count": null,
   "metadata": {},
   "outputs": [],
   "source": []
  },
  {
   "cell_type": "code",
   "execution_count": 26,
   "metadata": {},
   "outputs": [],
   "source": [
    "#convert dataframe into a numpy array\n",
    "X = df.values\n",
    "Y = label.values\n",
    "#X_train, X_test, Y_train, Y_test = train_test_split(X, Y, test_size=0.2)"
   ]
  },
  {
   "cell_type": "code",
   "execution_count": 27,
   "metadata": {},
   "outputs": [],
   "source": [
    "Y=Y[:,1] #to remove id column"
   ]
  },
  {
   "cell_type": "code",
   "execution_count": 28,
   "metadata": {},
   "outputs": [],
   "source": [
    "#X_train = X_train\n",
    "#Y_train = Y_train[:,1]\n",
    "#X_test = X_test\n",
    "#Y_test = Y_test[:,1]"
   ]
  },
  {
   "cell_type": "code",
   "execution_count": 29,
   "metadata": {},
   "outputs": [],
   "source": [
    "randomForestModel = RandomForestClassifier(n_estimators=80)"
   ]
  },
  {
   "cell_type": "code",
   "execution_count": 30,
   "metadata": {},
   "outputs": [],
   "source": [
    "def getScore(model,X_train,Y_train,X_test,Y_test):\n",
    "    model.fit(X_train,Y_train)\n",
    "    return model.score(X_test,Y_test)"
   ]
  },
  {
   "cell_type": "code",
   "execution_count": 31,
   "metadata": {},
   "outputs": [
    {
     "data": {
      "text/plain": [
       "StratifiedKFold(n_splits=10, random_state=None, shuffle=False)"
      ]
     },
     "execution_count": 31,
     "metadata": {},
     "output_type": "execute_result"
    }
   ],
   "source": [
    "kfold = StratifiedKFold(n_splits=10)\n",
    "kfold"
   ]
  },
  {
   "cell_type": "code",
   "execution_count": 32,
   "metadata": {},
   "outputs": [],
   "source": [
    "RF_score=[]\n",
    "\n",
    "for train_index,test_index in kfold.split(X,Y):\n",
    "    X_train,X_test,Y_train,Y_test = X[train_index],X[test_index],Y[train_index],Y[test_index]\n",
    "    RF_score.append(getScore(randomForestModel,X_train,Y_train,X_test,Y_test))"
   ]
  },
  {
   "cell_type": "code",
   "execution_count": 33,
   "metadata": {},
   "outputs": [
    {
     "data": {
      "text/plain": [
       "[0.8156875946810301,\n",
       " 0.8173708129944454,\n",
       " 0.8170341693317623,\n",
       " 0.8040733883184649,\n",
       " 0.8217171717171717,\n",
       " 0.802020202020202,\n",
       " 0.8146464646464646,\n",
       " 0.8046809227142616,\n",
       " 0.8006398383566257,\n",
       " 0.8152576625126305]"
      ]
     },
     "execution_count": 33,
     "metadata": {},
     "output_type": "execute_result"
    }
   ],
   "source": [
    "RF_score"
   ]
  },
  {
   "cell_type": "code",
   "execution_count": 34,
   "metadata": {},
   "outputs": [
    {
     "name": "stdout",
     "output_type": "stream",
     "text": [
      "0.8113128227293058\n"
     ]
    }
   ],
   "source": [
    "avg_rf_classification_score = sum(RF_score)/len(RF_score)\n",
    "print(avg_rf_classification_score)"
   ]
  },
  {
   "cell_type": "code",
   "execution_count": 35,
   "metadata": {},
   "outputs": [],
   "source": [
    "#Load the test values from the Test_set_values.csv file for predictions\n",
    "test_for_pred = pd.read_csv(\"Test_set_values.csv\")"
   ]
  },
  {
   "cell_type": "code",
   "execution_count": null,
   "metadata": {},
   "outputs": [],
   "source": []
  },
  {
   "cell_type": "code",
   "execution_count": null,
   "metadata": {},
   "outputs": [],
   "source": []
  },
  {
   "cell_type": "code",
   "execution_count": null,
   "metadata": {},
   "outputs": [],
   "source": []
  },
  {
   "cell_type": "code",
   "execution_count": 36,
   "metadata": {},
   "outputs": [
    {
     "data": {
      "text/plain": [
       "0.9999251805020388"
      ]
     },
     "execution_count": 36,
     "metadata": {},
     "output_type": "execute_result"
    }
   ],
   "source": [
    "from sklearn.metrics import accuracy_score\n",
    "predictions = randomForestModel.predict(X_train)\n",
    "accuracy_score(Y_train,predictions)"
   ]
  },
  {
   "cell_type": "code",
   "execution_count": null,
   "metadata": {},
   "outputs": [],
   "source": []
  },
  {
   "cell_type": "code",
   "execution_count": null,
   "metadata": {},
   "outputs": [],
   "source": []
  },
  {
   "cell_type": "code",
   "execution_count": null,
   "metadata": {},
   "outputs": [],
   "source": []
  },
  {
   "cell_type": "code",
   "execution_count": null,
   "metadata": {},
   "outputs": [],
   "source": []
  },
  {
   "cell_type": "code",
   "execution_count": 37,
   "metadata": {},
   "outputs": [],
   "source": [
    "def preprocesing(df):\n",
    "    #values = {'permit': 1,'scheme_management':'Other'}\n",
    "    #df.fillna(value=values,inplace = True)\n",
    "    # Find columns with Null values\n",
    "    nullcols = []\n",
    "    for col in df.columns:\n",
    "        nbnull = (df[col].isnull()*1).sum()\n",
    "        if ( nbnull > 0 ):\n",
    "            tp = type(df[df[col].notnull()][col].iat[0]) # type of first non null value\n",
    "            nullcols.append([col, tp])\n",
    "    \n",
    "    for col, tp in nullcols:\n",
    "        if (tp == str):\n",
    "            df.loc[df[col].isnull(), col] = 'MISSING'\n",
    "        \n",
    "    for col, tp in nullcols:\n",
    "        if (tp == bool):\n",
    "            df.loc[df[col]==True, col] = 'TRUE'\n",
    "            df.loc[df[col]==False, col] = 'FALSE'\n",
    "            df.loc[df[col].isnull(), col] = 'MISSING'\n",
    "    \n",
    "    #Drop columns not necessary for the model\n",
    "    drop_list = [\n",
    "                 'recorded_by',\n",
    "                 'waterpoint_type_group',\n",
    "                 'extraction_type_group',\n",
    "                 'recorded_by',\n",
    "                 'quality_group',\n",
    "                 'quantity_group',\n",
    "                 'id',\n",
    "                 'source',\n",
    "                 'source_class'\n",
    "                ]\n",
    "    df = df.drop(drop_list,axis=1)\n",
    "    \n",
    "    dates=[]\n",
    "    # before filling the null keep track of them\n",
    "    df['construction_year_missing'] = (df['construction_year']==0)*1\n",
    "    dates.append( 'construction_year_missing' ) # list of dates related fields\n",
    "\n",
    "    # to fill missing dates, can use : mean, median or oldest\n",
    "    mean_year = df[df['construction_year']>0]['construction_year'].mean()\n",
    "\n",
    "    df.loc[df['construction_year']==0, 'construction_year'] = int(mean_year)\n",
    "    \n",
    "    \n",
    "    \n",
    "\n",
    "    df['date_recorded'] = pd.to_datetime(df['date_recorded'], errors='coerce')\n",
    "    now = pd.to_datetime('now')\n",
    "    df['time_for_record'] = ((now - df['date_recorded']).dt.total_seconds() / (60*60*24*365.25)).round(0)\n",
    "    \n",
    "    #df['time_to_construction_year'] = datetime.datetime.now().year - df['construction_year']\n",
    "    \n",
    "    #df['time_to_construction_year'] = np.where(df['time_to_construction_year'] == 2019, df['time_for_record'], df['time_to_construction_year'])\n",
    "    \n",
    "    \n",
    "    # bound of min/max latitude/longitude/height for Tanzania\n",
    "    bound_df = df[(df['latitude']<-0.5)&(df['longitude']>25)&(df['gps_height']>0)]\n",
    "\n",
    "    # mean of geographical data in each bucket\n",
    "    mean_geo_df = bound_df.groupby(['basin',])['latitude','longitude','gps_height'].mean()\n",
    "\n",
    "    assert(mean_geo_df.shape[0] == len(df['basin'].unique()))\n",
    "    \n",
    "    geos=[]\n",
    "    # Before overwriting keep track of suspect rows with new binary columns\n",
    "    df['gps_height_bad'] = (df['gps_height']<=0)*1\n",
    "    geos.append('gps_height_bad')\n",
    "    df['longitude_bad'] = (df['longitude']<25)*1\n",
    "    geos.append('longitude_bad')\n",
    "    df['latitude_bad'] = (df['latitude']>-0.5)*1\n",
    "    geos.append('latitude_bad')\n",
    "\n",
    "    # Exemple of query via index=basin : mean_geo_df.at['Lake Victoria','latitude']\n",
    "    df.loc[df['gps_height']<=0, 'gps_height'] = df['basin'].apply(lambda x : mean_geo_df.at[x,'gps_height'])\n",
    "    df.loc[df['longitude']<25, 'longitude'] = df['basin'].apply(lambda x : mean_geo_df.at[x,'longitude'])\n",
    "    df.loc[df['latitude']>-0.5, 'latitude'] = df['basin'].apply(lambda x : mean_geo_df.at[x,'latitude'])\n",
    "    \n",
    "    \n",
    "    columns_to_delete = [\"date_recorded\"]\n",
    "    df.drop(labels=columns_to_delete, axis=\"columns\", inplace=True)\n",
    "    \n",
    "    value_replacement = {'commercial':'other', 'parastatal':'other', 'unknown':'other'}\n",
    "    df['management_group'].replace(value_replacement, inplace=True)\n",
    "    \n",
    "    new_value_replacement = {'salty':'other',\n",
    "                     'milky':'other', \n",
    "                     'unknown':'other', \n",
    "                     'fluoride':'other', \n",
    "                     'coloured':'other',\n",
    "                     'salty abandoned':'other', \n",
    "                     'fluoride abandoned':'other'\n",
    "                    }\n",
    "    df['water_quality'].replace(new_value_replacement,inplace=True)\n",
    "    \n",
    "    #Object data encode with numerical data\n",
    "    df_objects = df.select_dtypes(include=['object'])\n",
    "    label_encoder = preprocessing.LabelEncoder()\n",
    "    for col in df_objects.columns:\n",
    "        df[col] = label_encoder.fit_transform(df[col])\n",
    "        \n",
    "    #convert dataframe into a numpy array\n",
    "    X = df.values\n",
    "    \n",
    "    return randomForestModel.predict(X)"
   ]
  },
  {
   "cell_type": "code",
   "execution_count": 38,
   "metadata": {},
   "outputs": [],
   "source": [
    "final_pred = preprocesing(test_for_pred)"
   ]
  },
  {
   "cell_type": "code",
   "execution_count": 39,
   "metadata": {},
   "outputs": [],
   "source": [
    "# replace the old ones in the list with the new values \n",
    "result = pd.Series(final_pred).replace(to_replace = [0, 2, 1], value = ['functional', 'non functional', 'functional needs repair']) "
   ]
  },
  {
   "cell_type": "code",
   "execution_count": null,
   "metadata": {},
   "outputs": [],
   "source": []
  },
  {
   "cell_type": "code",
   "execution_count": 40,
   "metadata": {},
   "outputs": [],
   "source": [
    "evaluation = pd.DataFrame({'id':test_for_pred.id,\"status_group\": result.values[:]})"
   ]
  },
  {
   "cell_type": "code",
   "execution_count": null,
   "metadata": {},
   "outputs": [],
   "source": []
  },
  {
   "cell_type": "code",
   "execution_count": null,
   "metadata": {},
   "outputs": [],
   "source": []
  },
  {
   "cell_type": "code",
   "execution_count": 41,
   "metadata": {},
   "outputs": [],
   "source": [
    "evaluation.to_csv(\"Submission_07.csv\",index=False)"
   ]
  },
  {
   "cell_type": "code",
   "execution_count": 42,
   "metadata": {},
   "outputs": [
    {
     "data": {
      "text/html": [
       "<div>\n",
       "<style scoped>\n",
       "    .dataframe tbody tr th:only-of-type {\n",
       "        vertical-align: middle;\n",
       "    }\n",
       "\n",
       "    .dataframe tbody tr th {\n",
       "        vertical-align: top;\n",
       "    }\n",
       "\n",
       "    .dataframe thead th {\n",
       "        text-align: right;\n",
       "    }\n",
       "</style>\n",
       "<table border=\"1\" class=\"dataframe\">\n",
       "  <thead>\n",
       "    <tr style=\"text-align: right;\">\n",
       "      <th></th>\n",
       "      <th>id</th>\n",
       "      <th>status_group</th>\n",
       "    </tr>\n",
       "  </thead>\n",
       "  <tbody>\n",
       "    <tr>\n",
       "      <th>0</th>\n",
       "      <td>69572</td>\n",
       "      <td>0</td>\n",
       "    </tr>\n",
       "    <tr>\n",
       "      <th>1</th>\n",
       "      <td>8776</td>\n",
       "      <td>0</td>\n",
       "    </tr>\n",
       "    <tr>\n",
       "      <th>2</th>\n",
       "      <td>34310</td>\n",
       "      <td>0</td>\n",
       "    </tr>\n",
       "    <tr>\n",
       "      <th>3</th>\n",
       "      <td>67743</td>\n",
       "      <td>2</td>\n",
       "    </tr>\n",
       "    <tr>\n",
       "      <th>4</th>\n",
       "      <td>19728</td>\n",
       "      <td>0</td>\n",
       "    </tr>\n",
       "  </tbody>\n",
       "</table>\n",
       "</div>"
      ],
      "text/plain": [
       "      id  status_group\n",
       "0  69572             0\n",
       "1   8776             0\n",
       "2  34310             0\n",
       "3  67743             2\n",
       "4  19728             0"
      ]
     },
     "execution_count": 42,
     "metadata": {},
     "output_type": "execute_result"
    }
   ],
   "source": [
    "label.head(5)"
   ]
  },
  {
   "cell_type": "code",
   "execution_count": 43,
   "metadata": {},
   "outputs": [],
   "source": [
    "#for col in df.columns: # Check frequency of most common values\n",
    "#    cs = df[col].value_counts(normalize=True, sort=True, ascending=False)\n",
    "#    for k in cs.keys()[0:5]:\n",
    "#        print( col, k, int(cs[k]*1000)/10. )"
   ]
  },
  {
   "cell_type": "code",
   "execution_count": 44,
   "metadata": {},
   "outputs": [
    {
     "data": {
      "text/plain": [
       "amount_tsh                   0\n",
       "funder                       0\n",
       "gps_height                   0\n",
       "installer                    0\n",
       "longitude                    0\n",
       "latitude                     0\n",
       "wpt_name                     0\n",
       "num_private                  0\n",
       "basin                        0\n",
       "subvillage                   0\n",
       "region                       0\n",
       "region_code                  0\n",
       "district_code                0\n",
       "lga                          0\n",
       "ward                         0\n",
       "population                   0\n",
       "public_meeting               0\n",
       "scheme_management            0\n",
       "scheme_name                  0\n",
       "permit                       0\n",
       "construction_year            0\n",
       "extraction_type              0\n",
       "extraction_type_class        0\n",
       "management                   0\n",
       "management_group             0\n",
       "payment                      0\n",
       "payment_type                 0\n",
       "water_quality                0\n",
       "quantity                     0\n",
       "source_type                  0\n",
       "waterpoint_type              0\n",
       "construction_year_missing    0\n",
       "time_for_record              0\n",
       "gps_height_bad               0\n",
       "longitude_bad                0\n",
       "latitude_bad                 0\n",
       "dtype: int64"
      ]
     },
     "execution_count": 44,
     "metadata": {},
     "output_type": "execute_result"
    }
   ],
   "source": [
    "df.isnull().sum()"
   ]
  },
  {
   "cell_type": "code",
   "execution_count": null,
   "metadata": {},
   "outputs": [],
   "source": []
  }
 ],
 "metadata": {
  "kernelspec": {
   "display_name": "Python 3",
   "language": "python",
   "name": "python3"
  },
  "language_info": {
   "codemirror_mode": {
    "name": "ipython",
    "version": 3
   },
   "file_extension": ".py",
   "mimetype": "text/x-python",
   "name": "python",
   "nbconvert_exporter": "python",
   "pygments_lexer": "ipython3",
   "version": "3.7.3"
  }
 },
 "nbformat": 4,
 "nbformat_minor": 2
}
